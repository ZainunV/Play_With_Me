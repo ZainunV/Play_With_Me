{
  "nbformat": 4,
  "nbformat_minor": 0,
  "metadata": {
    "colab": {
      "private_outputs": true,
      "provenance": [],
      "include_colab_link": true
    },
    "kernelspec": {
      "name": "python3",
      "display_name": "Python 3"
    },
    "language_info": {
      "name": "python"
    }
  },
  "cells": [
    {
      "cell_type": "markdown",
      "metadata": {
        "id": "view-in-github",
        "colab_type": "text"
      },
      "source": [
        "<a href=\"https://colab.research.google.com/github/ZainunV/Play_With_Me/blob/main/Copy_of_Module_3_Take_home_Assignment_Template.ipynb\" target=\"_parent\"><img src=\"https://colab.research.google.com/assets/colab-badge.svg\" alt=\"Open In Colab\"/></a>"
      ]
    },
    {
      "cell_type": "markdown",
      "source": [
        "# Import Packages"
      ],
      "metadata": {
        "id": "XfYwSIvKvWQ8"
      }
    },
    {
      "cell_type": "code",
      "source": [
        "import pandas as pd\n",
        "import gdowm"
      ],
      "metadata": {
        "id": "LyI07wAm-fFN"
      },
      "execution_count": null,
      "outputs": []
    },
    {
      "cell_type": "markdown",
      "source": [
        "# Download Data"
      ],
      "metadata": {
        "id": "lnlnpGTUvUsQ"
      }
    },
    {
      "cell_type": "code",
      "execution_count": null,
      "metadata": {
        "id": "2J8FJ-M0s7c6"
      },
      "outputs": [],
      "source": [
        "gdrive_url = 'https://drive.google.com/file/d/18umQUsJoInwp92whDMSl1RrmiSMd69_o/view?usp=sharing'\n",
        "file_name = 'telecom_account.csv'\n",
        "gdown.download(gdrive_url, file_name, fuzzy=True)"
      ]
    },
    {
      "cell_type": "code",
      "source": [
        "gdrive_url = \"https://drive.google.com/file/d/1X4kElJUjOimsqv1o5LOB8bkjo2iLE51-/view?usp=sharing\"\n",
        "file_name = 'telecom_usage.csv'\n",
        "gdown.download(gdrive_url, file_name, fuzzy=True)"
      ],
      "metadata": {
        "id": "IMoIgZPutIio"
      },
      "execution_count": null,
      "outputs": []
    },
    {
      "cell_type": "markdown",
      "source": [],
      "metadata": {
        "id": "edQJ3F3hDgRy"
      }
    },
    {
      "cell_type": "markdown",
      "source": [
        "# Load Data"
      ],
      "metadata": {
        "id": "L9s_-pAKvYb6"
      }
    },
    {
      "cell_type": "code",
      "source": [
        "df_account = pd.read_csv('/content/TELECOM_ACCOUNT.csv')\n",
        "df_account"
      ],
      "metadata": {
        "id": "P3lcWWvXtm_1"
      },
      "execution_count": null,
      "outputs": []
    },
    {
      "cell_type": "code",
      "source": [
        "df_usage = pd.read_csv('/content/TELECOM_USAGE.csv')\n",
        "df_usage"
      ],
      "metadata": {
        "id": "9DO-s4gLtoSL"
      },
      "execution_count": null,
      "outputs": []
    },
    {
      "cell_type": "markdown",
      "source": [
        "# Cleaning Customer Gender"
      ],
      "metadata": {
        "id": "Vz10RzvQvaT8"
      }
    },
    {
      "cell_type": "code",
      "source": [
        "print(\"== Before Cleaning==\")\n",
        "jumlah_gender_total=df_account['customer_gender'].value_counts(dropna=False)\n",
        "print(f\"{jumlah_gender_total}\")\n",
        "print(\"== After Cleaning==\")\n",
        "#df_account['customer_gender'] = df_account['customer_gender'].fillna('u')\n",
        "df_account['customer_gender'] = df_account['customer_gender'].replace({'.': 'u', 'U': 'u'})\n",
        "df_account['customer_gender'] = df_account['customer_gender'].fillna('u')\n",
        "jumlah_gender_total_cleaning=df_account['customer_gender'].value_counts(dropna=False)\n",
        "print(f\"{jumlah_gender_total_cleaning}\")\n"
      ],
      "metadata": {
        "id": "J1FajSuuGCQz"
      },
      "execution_count": null,
      "outputs": []
    },
    {
      "cell_type": "markdown",
      "source": [
        "# RFM Exploration"
      ],
      "metadata": {
        "id": "J86IhLHExAsL"
      }
    },
    {
      "cell_type": "code",
      "source": [
        "df_rfm = pd.DataFrame(df_usage).groupby('rfm_score').agg({'mb_data_usg_m01': ['mean', 'max'],'avg_arpu_3m':['mean'],'lifetime_value':['mean']})\n",
        "df_rfm"
      ],
      "metadata": {
        "id": "xZtF_7VSyGt1"
      },
      "execution_count": null,
      "outputs": []
    },
    {
      "cell_type": "code",
      "source": [
        "df_rfm.loc[[111,112,113,121,122,123]]"
      ],
      "metadata": {
        "id": "7_mPdkN97ajL"
      },
      "execution_count": null,
      "outputs": []
    },
    {
      "cell_type": "markdown",
      "source": [
        "# Merge Table"
      ],
      "metadata": {
        "id": "-qOT8hARyglf"
      }
    },
    {
      "cell_type": "code",
      "source": [
        "df_account_filter=df_account[['Customer_ID', 'customer_gender', 'region']]\n",
        "df_usage_filter = df_usage[['Customer_ID', 'mb_data_usg_m01', 'avg_arpu_3m', 'lifetime_value']]\n",
        "df_join = pd.merge(df_account_filter, df_usage_filter, on='Customer_ID')\n",
        "df_join"
      ],
      "metadata": {
        "id": "ViV4THte0Jqc"
      },
      "execution_count": null,
      "outputs": []
    },
    {
      "cell_type": "code",
      "source": [
        "df_join.loc[df_join['Customer_ID'].isin([84690,3998832,3999066])]"
      ],
      "metadata": {
        "id": "UgQCGlJY0O6N"
      },
      "execution_count": null,
      "outputs": []
    }
  ]
}